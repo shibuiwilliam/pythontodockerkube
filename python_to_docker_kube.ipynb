{
 "cells": [
  {
   "cell_type": "markdown",
   "metadata": {},
   "source": [
    "# Running Docker from Python"
   ]
  },
  {
   "cell_type": "code",
   "execution_count": 1,
   "metadata": {
    "collapsed": false
   },
   "outputs": [],
   "source": [
    "import docker"
   ]
  },
  {
   "cell_type": "code",
   "execution_count": 2,
   "metadata": {
    "collapsed": true
   },
   "outputs": [],
   "source": [
    "client = docker.from_env()"
   ]
  },
  {
   "cell_type": "code",
   "execution_count": 3,
   "metadata": {
    "collapsed": false
   },
   "outputs": [
    {
     "data": {
      "text/plain": [
       "b'\\nHello from Docker!\\nThis message shows that your installation appears to be working correctly.\\n\\nTo generate this message, Docker took the following steps:\\n 1. The Docker client contacted the Docker daemon.\\n 2. The Docker daemon pulled the \"hello-world\" image from the Docker Hub.\\n    (amd64)\\n 3. The Docker daemon created a new container from that image which runs the\\n    executable that produces the output you are currently reading.\\n 4. The Docker daemon streamed that output to the Docker client, which sent it\\n    to your terminal.\\n\\nTo try something more ambitious, you can run an Ubuntu container with:\\n $ docker run -it ubuntu bash\\n\\nShare images, automate workflows, and more with a free Docker ID:\\n https://cloud.docker.com/\\n\\nFor more examples and ideas, visit:\\n https://docs.docker.com/engine/userguide/\\n\\n'"
      ]
     },
     "execution_count": 3,
     "metadata": {},
     "output_type": "execute_result"
    }
   ],
   "source": [
    "# hello world\n",
    "client.containers.run(\"hello-world\")"
   ]
  },
  {
   "cell_type": "code",
   "execution_count": null,
   "metadata": {
    "collapsed": true
   },
   "outputs": [],
   "source": []
  },
  {
   "cell_type": "code",
   "execution_count": 4,
   "metadata": {
    "collapsed": false
   },
   "outputs": [
    {
     "name": "stdout",
     "output_type": "stream",
     "text": [
      "FROM ubuntu:16.04\n",
      "MAINTAINER cvusk\n",
      "\n",
      "RUN echo \"test python client for docker\" >> /tmp/test.log\n",
      "\n",
      "CMD [\"cat\", \"/tmp/test.log\"]\n"
     ]
    }
   ],
   "source": [
    "with open('/opt/workdir/test/dockerfile','r') as f:\n",
    "    for row in f:\n",
    "        print(row.strip())"
   ]
  },
  {
   "cell_type": "code",
   "execution_count": 5,
   "metadata": {
    "collapsed": false
   },
   "outputs": [
    {
     "data": {
      "text/plain": [
       "(<Image: 'ubuntu:test'>, <itertools._tee at 0x7f467d75b448>)"
      ]
     },
     "execution_count": 5,
     "metadata": {},
     "output_type": "execute_result"
    }
   ],
   "source": [
    "# build test image\n",
    "client.images.build(path=\"/opt/workdir/test\", tag=\"ubuntu:test\")"
   ]
  },
  {
   "cell_type": "code",
   "execution_count": 6,
   "metadata": {
    "collapsed": false
   },
   "outputs": [
    {
     "data": {
      "text/plain": [
       "b'test python client for docker\\n'"
      ]
     },
     "execution_count": 6,
     "metadata": {},
     "output_type": "execute_result"
    }
   ],
   "source": [
    "# run test image\n",
    "client.containers.run(\"ubuntu:test\")"
   ]
  },
  {
   "cell_type": "code",
   "execution_count": null,
   "metadata": {
    "collapsed": true
   },
   "outputs": [],
   "source": []
  },
  {
   "cell_type": "markdown",
   "metadata": {},
   "source": [
    "# Controlling Kubernetes from Python"
   ]
  },
  {
   "cell_type": "code",
   "execution_count": 7,
   "metadata": {
    "collapsed": true
   },
   "outputs": [],
   "source": [
    "from kubernetes import client as kclient\n",
    "from kubernetes import config as kconfig\n",
    "import yaml\n",
    "import os"
   ]
  },
  {
   "cell_type": "code",
   "execution_count": 8,
   "metadata": {
    "collapsed": true
   },
   "outputs": [],
   "source": [
    "kconfig.load_kube_config()"
   ]
  },
  {
   "cell_type": "code",
   "execution_count": 9,
   "metadata": {
    "collapsed": false
   },
   "outputs": [
    {
     "name": "stdout",
     "output_type": "stream",
     "text": [
      "Listing pods with their IPs:\n",
      "10.146.0.4\tkube-system\tetcd-pdk\n",
      "10.146.0.4\tkube-system\tkube-apiserver-pdk\n",
      "10.146.0.4\tkube-system\tkube-controller-manager-pdk\n",
      "10.244.0.3\tkube-system\tkube-dns-6f4fd4bdf-z7q6k\n",
      "10.146.0.4\tkube-system\tkube-flannel-ds-9r8cs\n",
      "10.146.0.4\tkube-system\tkube-proxy-x24fx\n",
      "10.146.0.4\tkube-system\tkube-scheduler-pdk\n"
     ]
    }
   ],
   "source": [
    "v1 = kclient.CoreV1Api()\n",
    "print(\"Listing pods with their IPs:\")\n",
    "ret = v1.list_pod_for_all_namespaces(watch=False)\n",
    "for i in ret.items:\n",
    "    print(\"%s\\t%s\\t%s\" % (i.status.pod_ip, i.metadata.namespace, i.metadata.name))"
   ]
  },
  {
   "cell_type": "code",
   "execution_count": null,
   "metadata": {
    "collapsed": true
   },
   "outputs": [],
   "source": []
  },
  {
   "cell_type": "code",
   "execution_count": 10,
   "metadata": {
    "collapsed": false
   },
   "outputs": [
    {
     "data": {
      "text/plain": [
       "{'apiVersion': 'extensions/v1beta1',\n",
       " 'kind': 'Deployment',\n",
       " 'metadata': {'name': 'my-nginx'},\n",
       " 'spec': {'replicas': 1,\n",
       "  'selector': {'matchLabels': {'run': 'my-nginx'}},\n",
       "  'template': {'metadata': {'labels': {'run': 'my-nginx'}},\n",
       "   'spec': {'containers': [{'image': 'nginx',\n",
       "      'name': 'my-nginx',\n",
       "      'ports': [{'containerPort': 80}]}]}}}}"
      ]
     },
     "execution_count": 10,
     "metadata": {},
     "output_type": "execute_result"
    }
   ],
   "source": [
    "nginxdep = {'apiVersion': 'extensions/v1beta1',\n",
    "            'kind': 'Deployment',\n",
    "            'metadata': {'name': 'my-nginx'},\n",
    "            'spec': {'replicas': 1,\n",
    "                     'selector': {'matchLabels': {'run': 'my-nginx'}},\n",
    "                     'template': {'metadata': {'labels': {'run': 'my-nginx'}},\n",
    "                                  'spec': {'containers': [{'image': 'nginx',\n",
    "                                                           'name': 'my-nginx',\n",
    "                                                           'ports': [{'containerPort': 80}]}]}}}}\n",
    "nginxdep"
   ]
  },
  {
   "cell_type": "code",
   "execution_count": 11,
   "metadata": {
    "collapsed": false
   },
   "outputs": [
    {
     "data": {
      "text/plain": [
       "{'apiVersion': 'v1',\n",
       " 'kind': 'Service',\n",
       " 'metadata': {'labels': {'run': 'my-nginx'}, 'name': 'my-nginx'},\n",
       " 'spec': {'externalIPs': ['35.200.42.99'],\n",
       "  'ports': [{'nodePort': 30000, 'port': 80, 'protocol': 'TCP'}],\n",
       "  'selector': {'run': 'my-nginx'},\n",
       "  'type': 'LoadBalancer'}}"
      ]
     },
     "execution_count": 11,
     "metadata": {},
     "output_type": "execute_result"
    }
   ],
   "source": [
    "nginxsvc = {'apiVersion': 'v1',\n",
    "            'kind': 'Service',\n",
    "            'metadata': {'labels': {'run': 'my-nginx'}, 'name': 'my-nginx'},\n",
    "            'spec': {'externalIPs': ['35.200.42.99'],\n",
    "                     'ports': [{'nodePort': 30000, 'port': 80, 'protocol': 'TCP'}],\n",
    "                     'selector': {'run': 'my-nginx'},\n",
    "                     'type': 'LoadBalancer'}}\n",
    "nginxsvc"
   ]
  },
  {
   "cell_type": "code",
   "execution_count": 12,
   "metadata": {
    "collapsed": false
   },
   "outputs": [],
   "source": [
    "with open(\"kube/nginxdep.yml\", \"w\") as f:\n",
    "    f.write(yaml.dump(nginxdep, default_flow_style=False))"
   ]
  },
  {
   "cell_type": "code",
   "execution_count": 13,
   "metadata": {
    "collapsed": false
   },
   "outputs": [],
   "source": [
    "with open(\"kube/nginxsvc.yml\", \"w\") as f:\n",
    "    f.write(yaml.dump(nginxsvc, default_flow_style=False))"
   ]
  },
  {
   "cell_type": "code",
   "execution_count": null,
   "metadata": {
    "collapsed": true
   },
   "outputs": [],
   "source": []
  },
  {
   "cell_type": "code",
   "execution_count": 14,
   "metadata": {
    "collapsed": true
   },
   "outputs": [],
   "source": [
    " class KubeDeployer(object):\n",
    "    def __init__(self):\n",
    "        kconfig.load_kube_config()\n",
    "        self.__k8s_beta = kclient.ExtensionsV1beta1Api()\n",
    "        self.__k8s_core = kclient.CoreV1Api()\n",
    "    def createDeployment(self, filename, filedir=None):\n",
    "        if filedir is not None:\n",
    "            filename = os.path.join(filedir, filename)\n",
    "        with open(filename) as f:\n",
    "            dep = yaml.load(f)\n",
    "            resp = self.__k8s_beta.create_namespaced_deployment(\n",
    "                body=dep, namespace=\"default\")\n",
    "            print(\"DEPLOYMENT {0} created. status={1}\".format(filename, resp.metadata))\n",
    "        return resp\n",
    "    def getDeploymentList(self):\n",
    "        resp = self.__k8s_beta.list_deployment_for_all_namespaces()\n",
    "        return resp\n",
    "    def deleteDeployment(self, name, namespace=\"default\", **kwargs):\n",
    "        body = kubernetes.client.V1DeleteOptions(**kwargs)\n",
    "        resp = self.__k8s_beta.delete_namespaced_deployment(name, namespace, body, **kwargs)\n",
    "        return resp\n",
    "    def deleteAllDeployment(self, namespace=\"default\", **kwargs):\n",
    "        respd = self.__k8s_beta.delete_collection_namespaced_deployment(namespace)\n",
    "        respr = self.__k8s_beta.delete_collection_namespaced_replica_set(namespace)\n",
    "        respp = self.__k8s_core.delete_collection_namespaced_pod(namespace)\n",
    "        return respd,respr,respp\n",
    "\n",
    "    def createService(self, filename, filedir=None):\n",
    "        if filedir is not None:\n",
    "            filename = os.path.join(filedir, filename)\n",
    "        with open(filename) as f:\n",
    "            svc = yaml.load(f)            \n",
    "            resp = self.__k8s_core.create_namespaced_service(\n",
    "                body=svc, namespace=\"default\")\n",
    "            print(\"SERVICE {0} created. status={1}\".format(filename, resp.metadata))\n",
    "        return resp\n",
    "    def getServiceList(self):\n",
    "        resp = self.__k8s_core.list_service_for_all_namespaces()\n",
    "        return resp\n",
    "    def deleteService(self, name, namespace=\"default\", **kwargs):\n",
    "        resp = self.__k8s_core.delete_namespaced_service(name, namespace, **kwargs)\n",
    "        return resp"
   ]
  },
  {
   "cell_type": "code",
   "execution_count": 15,
   "metadata": {
    "collapsed": false
   },
   "outputs": [],
   "source": [
    "kd = KubeDeployer()"
   ]
  },
  {
   "cell_type": "code",
   "execution_count": 16,
   "metadata": {
    "collapsed": false,
    "scrolled": true
   },
   "outputs": [
    {
     "name": "stdout",
     "output_type": "stream",
     "text": [
      "DEPLOYMENT /opt/workdir/kube/nginxdep.yml created. status={'annotations': None,\n",
      " 'cluster_name': None,\n",
      " 'creation_timestamp': datetime.datetime(2018, 2, 4, 6, 50, 13, tzinfo=tzlocal()),\n",
      " 'deletion_grace_period_seconds': None,\n",
      " 'deletion_timestamp': None,\n",
      " 'finalizers': None,\n",
      " 'generate_name': None,\n",
      " 'generation': 1,\n",
      " 'initializers': None,\n",
      " 'labels': {'run': 'my-nginx'},\n",
      " 'name': 'my-nginx',\n",
      " 'namespace': 'default',\n",
      " 'owner_references': None,\n",
      " 'resource_version': '14964',\n",
      " 'self_link': '/apis/extensions/v1beta1/namespaces/default/deployments/my-nginx',\n",
      " 'uid': 'a66f4390-0977-11e8-b962-42010a920004'}\n"
     ]
    }
   ],
   "source": [
    "kdeploy = kd.createDeployment(\"nginxdep.yml\", \"/opt/workdir/kube/\")"
   ]
  },
  {
   "cell_type": "code",
   "execution_count": 17,
   "metadata": {
    "collapsed": false,
    "scrolled": false
   },
   "outputs": [
    {
     "name": "stdout",
     "output_type": "stream",
     "text": [
      "SERVICE /opt/workdir/kube/nginxsvc.yml created. status={'annotations': None,\n",
      " 'cluster_name': None,\n",
      " 'creation_timestamp': datetime.datetime(2018, 2, 4, 6, 50, 13, tzinfo=tzlocal()),\n",
      " 'deletion_grace_period_seconds': None,\n",
      " 'deletion_timestamp': None,\n",
      " 'finalizers': None,\n",
      " 'generate_name': None,\n",
      " 'generation': None,\n",
      " 'initializers': None,\n",
      " 'labels': {'run': 'my-nginx'},\n",
      " 'name': 'my-nginx',\n",
      " 'namespace': 'default',\n",
      " 'owner_references': None,\n",
      " 'resource_version': '14981',\n",
      " 'self_link': '/api/v1/namespaces/default/services/my-nginx',\n",
      " 'uid': 'a6d7c669-0977-11e8-b962-42010a920004'}\n"
     ]
    }
   ],
   "source": [
    "ksvc = kd.createService(\"nginxsvc.yml\", \"/opt/workdir/kube/\")"
   ]
  },
  {
   "cell_type": "code",
   "execution_count": 18,
   "metadata": {
    "collapsed": false
   },
   "outputs": [
    {
     "data": {
      "text/plain": [
       "{'api_version': 'v1',\n",
       " 'code': None,\n",
       " 'details': None,\n",
       " 'kind': 'Status',\n",
       " 'message': None,\n",
       " 'metadata': {'_continue': None, 'resource_version': None, 'self_link': None},\n",
       " 'reason': None,\n",
       " 'status': 'Success'}"
      ]
     },
     "execution_count": 18,
     "metadata": {},
     "output_type": "execute_result"
    }
   ],
   "source": [
    "kd.deleteAllDeployment()\n",
    "kd.deleteService('my-nginx')"
   ]
  },
  {
   "cell_type": "code",
   "execution_count": null,
   "metadata": {
    "collapsed": true
   },
   "outputs": [],
   "source": []
  },
  {
   "cell_type": "code",
   "execution_count": null,
   "metadata": {
    "collapsed": true
   },
   "outputs": [],
   "source": []
  }
 ],
 "metadata": {
  "anaconda-cloud": {},
  "kernelspec": {
   "display_name": "Python [default]",
   "language": "python",
   "name": "python3"
  },
  "language_info": {
   "codemirror_mode": {
    "name": "ipython",
    "version": 3
   },
   "file_extension": ".py",
   "mimetype": "text/x-python",
   "name": "python",
   "nbconvert_exporter": "python",
   "pygments_lexer": "ipython3",
   "version": "3.5.2"
  }
 },
 "nbformat": 4,
 "nbformat_minor": 1
}
